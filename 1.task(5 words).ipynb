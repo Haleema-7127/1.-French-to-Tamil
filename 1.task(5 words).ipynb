{
 "cells": [
  {
   "cell_type": "code",
   "execution_count": 1,
   "id": "c42f0ceb",
   "metadata": {},
   "outputs": [],
   "source": [
    "import tkinter as tk\n",
    "from tkinter import messagebox"
   ]
  },
  {
   "cell_type": "code",
   "execution_count": 2,
   "id": "57d3d34a",
   "metadata": {},
   "outputs": [],
   "source": [
    "french_to_tamil = {\n",
    "    \"amour\": \"அன்பு\",     # love\n",
    "    \"femme\": \"பெண்\",      # woman\n",
    "    \"pomme\": \"ஆப்பிள்\",   # apple\n",
    "    \"livre\": \"புத்தகம்\",  # book\n",
    "    \"coeur\": \"இதயம்\"     # heart\n",
    "}"
   ]
  },
  {
   "cell_type": "code",
   "execution_count": 3,
   "id": "db019a3a",
   "metadata": {},
   "outputs": [],
   "source": [
    "def translate():\n",
    "\tword = entry.get().strip().lower()\n",
    "\tif len(word) == 5:\n",
    "\t\tif word in french_to_tamil:\n",
    "\t\t\toutput_var.set(french_to_tamil[word])\n",
    "\t\telse:\n",
    "\t\t\toutput_var.set(\"No translation found\")\n",
    "\telse:\n",
    "\t\tmessagebox.showwarning(\"Translation not available\", \"Please enter a valid 5-letter French word.\")\n",
    "\t\toutput_var.set(\"\")"
   ]
  },
  {
   "cell_type": "code",
   "execution_count": 4,
   "id": "f796c135",
   "metadata": {},
   "outputs": [],
   "source": [
    "root = tk.Tk()\n",
    "root.title(\"French → Tamil Translator (5-letter only)\")\n",
    "root.geometry(\"400x250\")\n",
    "root.config(bg=\"#f0f0f0\")"
   ]
  },
  {
   "cell_type": "code",
   "execution_count": 5,
   "id": "2665c862",
   "metadata": {},
   "outputs": [],
   "source": [
    "label = tk.Label(root, text=\"Enter a 5-letter French word:\", font=(\"Times New Roman\", 12), bg=\"#f0f0f0\")\n",
    "label.pack(pady=10)\n",
    "\n",
    "\n",
    "entry = tk.Entry(root, font=(\"Times New Roman\", 14))\n",
    "entry.pack(pady=5)"
   ]
  },
  {
   "cell_type": "code",
   "execution_count": 6,
   "id": "e48b7588",
   "metadata": {},
   "outputs": [],
   "source": [
    "button = tk.Button(root, text=\"Translate\", font=(\"Times New Roman\", 12), command=translate)\n",
    "button.pack(pady=10)"
   ]
  },
  {
   "cell_type": "code",
   "execution_count": 7,
   "id": "d2f0c512",
   "metadata": {},
   "outputs": [],
   "source": [
    "output_var = tk.StringVar()\n",
    "output_label = tk.Label(root, textvariable=output_var, font=(\"Times New Roman\", 14, \"bold\"), fg=\"blue\", bg=\"#f0f0f0\")\n",
    "output_label.pack(pady=20)"
   ]
  },
  {
   "cell_type": "code",
   "execution_count": 8,
   "id": "1342b31f",
   "metadata": {},
   "outputs": [],
   "source": [
    "root.mainloop()"
   ]
  }
 ],
 "metadata": {
  "kernelspec": {
   "display_name": "nullclass",
   "language": "python",
   "name": "python3"
  },
  "language_info": {
   "codemirror_mode": {
    "name": "ipython",
    "version": 3
   },
   "file_extension": ".py",
   "mimetype": "text/x-python",
   "name": "python",
   "nbconvert_exporter": "python",
   "pygments_lexer": "ipython3",
   "version": "3.9.23"
  }
 },
 "nbformat": 4,
 "nbformat_minor": 5
}
